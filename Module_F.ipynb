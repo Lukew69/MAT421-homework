{
  "nbformat": 4,
  "nbformat_minor": 0,
  "metadata": {
    "colab": {
      "provenance": [],
      "authorship_tag": "ABX9TyO+OPdY/fzgqFBZWlxmCWna",
      "include_colab_link": true
    },
    "kernelspec": {
      "name": "python3",
      "display_name": "Python 3"
    },
    "language_info": {
      "name": "python"
    }
  },
  "cells": [
    {
      "cell_type": "markdown",
      "metadata": {
        "id": "view-in-github",
        "colab_type": "text"
      },
      "source": [
        "<a href=\"https://colab.research.google.com/github/Lukew69/MAT421-homework/blob/main/Module_F.ipynb\" target=\"_parent\"><img src=\"https://colab.research.google.com/assets/colab-badge.svg\" alt=\"Open In Colab\"/></a>"
      ]
    },
    {
      "cell_type": "markdown",
      "source": [
        "20.1"
      ],
      "metadata": {
        "id": "axn-cfqRnoGJ"
      }
    },
    {
      "cell_type": "code",
      "execution_count": null,
      "metadata": {
        "id": "e1lCFgiLnl8h"
      },
      "outputs": [],
      "source": []
    },
    {
      "cell_type": "markdown",
      "source": [
        "20.2"
      ],
      "metadata": {
        "id": "AvCLI43Knpc3"
      }
    },
    {
      "cell_type": "code",
      "source": [],
      "metadata": {
        "id": "qw9BxX9_nsMo"
      },
      "execution_count": null,
      "outputs": []
    },
    {
      "cell_type": "markdown",
      "source": [
        "20.3"
      ],
      "metadata": {
        "id": "GQNGkFEgnskq"
      }
    },
    {
      "cell_type": "code",
      "source": [],
      "metadata": {
        "id": "GPozO3A3ntcc"
      },
      "execution_count": null,
      "outputs": []
    },
    {
      "cell_type": "markdown",
      "source": [
        "20.4"
      ],
      "metadata": {
        "id": "1KZzjEB8nt1p"
      }
    },
    {
      "cell_type": "code",
      "source": [],
      "metadata": {
        "id": "rx0TiwefnvQl"
      },
      "execution_count": null,
      "outputs": []
    }
  ]
}