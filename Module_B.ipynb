{
  "nbformat": 4,
  "nbformat_minor": 0,
  "metadata": {
    "colab": {
      "provenance": [],
      "authorship_tag": "ABX9TyMnXHMS1/5WcRpoWzhgcfp/",
      "include_colab_link": true
    },
    "kernelspec": {
      "name": "python3",
      "display_name": "Python 3"
    },
    "language_info": {
      "name": "python"
    }
  },
  "cells": [
    {
      "cell_type": "markdown",
      "metadata": {
        "id": "view-in-github",
        "colab_type": "text"
      },
      "source": [
        "<a href=\"https://colab.research.google.com/github/Lukew69/MAT421-homework/blob/main/Module_B.ipynb\" target=\"_parent\"><img src=\"https://colab.research.google.com/assets/colab-badge.svg\" alt=\"Open In Colab\"/></a>"
      ]
    },
    {
      "cell_type": "markdown",
      "source": [
        "17.1"
      ],
      "metadata": {
        "id": "BPqnfKxnngvU"
      }
    },
    {
      "cell_type": "code",
      "source": [],
      "metadata": {
        "id": "mpX6VRKInni5"
      },
      "execution_count": null,
      "outputs": []
    },
    {
      "cell_type": "markdown",
      "source": [
        "17.2"
      ],
      "metadata": {
        "id": "K2F2BDDinj5o"
      }
    },
    {
      "cell_type": "code",
      "source": [],
      "metadata": {
        "id": "ieYIzG0LnoBQ"
      },
      "execution_count": null,
      "outputs": []
    },
    {
      "cell_type": "markdown",
      "source": [
        "17.3"
      ],
      "metadata": {
        "id": "vYymFLMVnlgT"
      }
    },
    {
      "cell_type": "code",
      "execution_count": null,
      "metadata": {
        "id": "zZeB6cT7naV1"
      },
      "outputs": [],
      "source": []
    }
  ]
}