{
  "nbformat": 4,
  "nbformat_minor": 0,
  "metadata": {
    "colab": {
      "provenance": [],
      "authorship_tag": "ABX9TyNbmjBCADo3q+uSKSJ7hi9c",
      "include_colab_link": true
    },
    "kernelspec": {
      "name": "python3",
      "display_name": "Python 3"
    },
    "language_info": {
      "name": "python"
    }
  },
  "cells": [
    {
      "cell_type": "markdown",
      "metadata": {
        "id": "view-in-github",
        "colab_type": "text"
      },
      "source": [
        "<a href=\"https://colab.research.google.com/github/Lukew69/MAT421-homework/blob/main/Module_B_(2).ipynb\" target=\"_parent\"><img src=\"https://colab.research.google.com/assets/colab-badge.svg\" alt=\"Open In Colab\"/></a>"
      ]
    },
    {
      "cell_type": "markdown",
      "source": [
        "17.4"
      ],
      "metadata": {
        "id": "CyxT0C_EZs7e"
      }
    },
    {
      "cell_type": "code",
      "execution_count": null,
      "metadata": {
        "id": "qv61KZ4nZoRK"
      },
      "outputs": [],
      "source": []
    },
    {
      "cell_type": "markdown",
      "source": [
        "17.5"
      ],
      "metadata": {
        "id": "-XgZfTkrZtG8"
      }
    },
    {
      "cell_type": "code",
      "source": [],
      "metadata": {
        "id": "hI2rBQffZ7JZ"
      },
      "execution_count": null,
      "outputs": []
    }
  ]
}