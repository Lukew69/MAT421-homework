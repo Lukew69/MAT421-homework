{
  "nbformat": 4,
  "nbformat_minor": 0,
  "metadata": {
    "colab": {
      "provenance": [],
      "authorship_tag": "ABX9TyPrXOJGXypOdua4QDFAEXVH",
      "include_colab_link": true
    },
    "kernelspec": {
      "name": "python3",
      "display_name": "Python 3"
    },
    "language_info": {
      "name": "python"
    }
  },
  "cells": [
    {
      "cell_type": "markdown",
      "metadata": {
        "id": "view-in-github",
        "colab_type": "text"
      },
      "source": [
        "<a href=\"https://colab.research.google.com/github/Lukew69/MAT421-homework/blob/main/Module_E.ipynb\" target=\"_parent\"><img src=\"https://colab.research.google.com/assets/colab-badge.svg\" alt=\"Open In Colab\"/></a>"
      ]
    },
    {
      "cell_type": "markdown",
      "source": [
        "3.2"
      ],
      "metadata": {
        "id": "BefC8fbcnAua"
      }
    },
    {
      "cell_type": "code",
      "execution_count": 1,
      "metadata": {
        "id": "hy3aWgsNm8oV"
      },
      "outputs": [],
      "source": [
        "#limits#\n",
        "from sympy import limit, oo, Symbol\n",
        "x = Symbol('x')"
      ]
    },
    {
      "cell_type": "code",
      "source": [
        "y=1/x\n",
        "limit(y,x,0)"
      ],
      "metadata": {
        "id": "YmLpc3DV1B6Y",
        "outputId": "af6f7749-67e6-4444-f243-019bd0a28e4b",
        "colab": {
          "base_uri": "https://localhost:8080/",
          "height": 37
        }
      },
      "execution_count": 6,
      "outputs": [
        {
          "output_type": "execute_result",
          "data": {
            "text/plain": [
              "oo"
            ],
            "text/latex": "$\\displaystyle \\infty$"
          },
          "metadata": {},
          "execution_count": 6
        }
      ]
    },
    {
      "cell_type": "code",
      "source": [
        "#derivatives#\n",
        "from sympy import *\n",
        "import numpy as np\n",
        "x = Symbol('x')"
      ],
      "metadata": {
        "id": "Vp9m7Cwr1RoZ"
      },
      "execution_count": 4,
      "outputs": []
    },
    {
      "cell_type": "code",
      "source": [
        "y=x**3+2*x**2+3\n",
        "yprime=y.diff(x)\n",
        "yprime"
      ],
      "metadata": {
        "id": "Y6ZxMpjf1a-t",
        "outputId": "acf4dde4-4e55-42ee-d778-1a63cec5b3af",
        "colab": {
          "base_uri": "https://localhost:8080/",
          "height": 38
        }
      },
      "execution_count": 8,
      "outputs": [
        {
          "output_type": "execute_result",
          "data": {
            "text/plain": [
              "3*x**2 + 4*x"
            ],
            "text/latex": "$\\displaystyle 3 x^{2} + 4 x$"
          },
          "metadata": {},
          "execution_count": 8
        }
      ]
    },
    {
      "cell_type": "code",
      "source": [
        "#partial derivatives#\n",
        "from sympy import symbols, cos, diff\n",
        "a, b, c = symbols('a b c', real=True)\n"
      ],
      "metadata": {
        "id": "p6zX_nbJEqmT"
      },
      "execution_count": 11,
      "outputs": []
    },
    {
      "cell_type": "code",
      "source": [
        "f = 4*a**2*b**2+5*c+a+6*b\n",
        "print(diff(f,a))\n",
        "print(diff(f,b))\n",
        "print(diff(f,c))"
      ],
      "metadata": {
        "id": "JnwxD2q0Exvs",
        "outputId": "2fcd0e8a-9cb0-46b0-80cc-6f9295a30828",
        "colab": {
          "base_uri": "https://localhost:8080/"
        }
      },
      "execution_count": 14,
      "outputs": [
        {
          "output_type": "stream",
          "name": "stdout",
          "text": [
            "8*a*b**2 + 1\n",
            "8*a**2*b + 6\n",
            "5\n"
          ]
        }
      ]
    },
    {
      "cell_type": "markdown",
      "source": [
        "3.3"
      ],
      "metadata": {
        "id": "g__7R-09nDAl"
      }
    },
    {
      "cell_type": "code",
      "source": [],
      "metadata": {
        "id": "_PCnZPTHnD1K"
      },
      "execution_count": 9,
      "outputs": []
    }
  ]
}