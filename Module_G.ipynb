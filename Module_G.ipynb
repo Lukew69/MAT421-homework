{
  "nbformat": 4,
  "nbformat_minor": 0,
  "metadata": {
    "colab": {
      "provenance": [],
      "authorship_tag": "ABX9TyO6/OP0qt4PLk6vq78kGTqt",
      "include_colab_link": true
    },
    "kernelspec": {
      "name": "python3",
      "display_name": "Python 3"
    },
    "language_info": {
      "name": "python"
    }
  },
  "cells": [
    {
      "cell_type": "markdown",
      "metadata": {
        "id": "view-in-github",
        "colab_type": "text"
      },
      "source": [
        "<a href=\"https://colab.research.google.com/github/Lukew69/MAT421-homework/blob/main/Module_G.ipynb\" target=\"_parent\"><img src=\"https://colab.research.google.com/assets/colab-badge.svg\" alt=\"Open In Colab\"/></a>"
      ]
    },
    {
      "cell_type": "markdown",
      "source": [
        "21.1"
      ],
      "metadata": {
        "id": "7OM2D6sDonJV"
      }
    },
    {
      "cell_type": "code",
      "execution_count": null,
      "metadata": {
        "id": "a_iV3j2Sokcn"
      },
      "outputs": [],
      "source": []
    },
    {
      "cell_type": "markdown",
      "source": [
        "21.2"
      ],
      "metadata": {
        "id": "-f9PqvUloomS"
      }
    },
    {
      "cell_type": "code",
      "source": [],
      "metadata": {
        "id": "87YyjHrGoplG"
      },
      "execution_count": null,
      "outputs": []
    },
    {
      "cell_type": "markdown",
      "source": [
        "21.3"
      ],
      "metadata": {
        "id": "G6emnD1Eop4D"
      }
    },
    {
      "cell_type": "code",
      "source": [],
      "metadata": {
        "id": "RNEIJfwfoq_3"
      },
      "execution_count": null,
      "outputs": []
    }
  ]
}