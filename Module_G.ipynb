{
  "nbformat": 4,
  "nbformat_minor": 0,
  "metadata": {
    "colab": {
      "provenance": [],
      "authorship_tag": "ABX9TyOEYmKX6PpfLj7fYs6uo9hA",
      "include_colab_link": true
    },
    "kernelspec": {
      "name": "python3",
      "display_name": "Python 3"
    },
    "language_info": {
      "name": "python"
    }
  },
  "cells": [
    {
      "cell_type": "markdown",
      "metadata": {
        "id": "view-in-github",
        "colab_type": "text"
      },
      "source": [
        "<a href=\"https://colab.research.google.com/github/Lukew69/MAT421-homework/blob/main/Module_G.ipynb\" target=\"_parent\"><img src=\"https://colab.research.google.com/assets/colab-badge.svg\" alt=\"Open In Colab\"/></a>"
      ]
    },
    {
      "cell_type": "markdown",
      "source": [
        "21.1"
      ],
      "metadata": {
        "id": "7OM2D6sDonJV"
      }
    },
    {
      "cell_type": "markdown",
      "source": [
        "given f(x) we want to integrate f(x) over an interval [a,b]. To do this we can break the interval into a numerical grid with n+1 points size h=(b-a)/n. We compute f(x) for each point on the grid and sum them up giving an approximation of the integral. "
      ],
      "metadata": {
        "id": "nUCMO8181oeM"
      }
    },
    {
      "cell_type": "markdown",
      "source": [
        "21.2"
      ],
      "metadata": {
        "id": "-f9PqvUloomS"
      }
    },
    {
      "cell_type": "code",
      "source": [
        "#riemann integral for Ln(x)dx from 1 to e, compared to 1\n",
        "import numpy as np\n",
        "\n",
        "a = 1\n",
        "b = np.exp(1)\n",
        "n = 11\n",
        "h = (b - a) / (n - 1)\n",
        "x = np.linspace(a, b, n)\n",
        "f = np.log(x)\n",
        "\n",
        "I_riemannL = h * sum(f[:n-1])\n",
        "err_riemannL = 1 - I_riemannL\n",
        "\n",
        "I_riemannR = h * sum(f[1::])\n",
        "err_riemannR = 1 - I_riemannR\n",
        "\n",
        "I_mid = h * sum(np.sin((x[:n-1] \\\n",
        "        + x[1:])/2))\n",
        "err_mid = 1 - I_mid\n",
        "\n",
        "print(I_riemannL)\n",
        "print(err_riemannL)\n",
        "\n",
        "print(I_riemannR)\n",
        "print(err_riemannR)\n",
        "\n",
        "print(I_mid)\n",
        "print(err_mid)"
      ],
      "metadata": {
        "id": "87YyjHrGoplG",
        "outputId": "558662ad-000f-4258-9649-34c85dc07afc",
        "colab": {
          "base_uri": "https://localhost:8080/"
        }
      },
      "execution_count": 10,
      "outputs": [
        {
          "output_type": "stream",
          "name": "stdout",
          "text": [
            "0.9125329136361828\n",
            "0.08746708636381717\n",
            "1.0843610964820873\n",
            "-0.08436109648208734\n",
            "1.4538240626024905\n",
            "-0.45382406260249053\n"
          ]
        }
      ]
    },
    {
      "cell_type": "markdown",
      "source": [
        "21.3"
      ],
      "metadata": {
        "id": "G6emnD1Eop4D"
      }
    },
    {
      "cell_type": "code",
      "source": [
        "#trapezoid rule for Ln(x)dx from 1 to e, compared to 1\n",
        "import numpy as np\n",
        "\n",
        "a = 1\n",
        "b = np.exp(1)\n",
        "n = 11\n",
        "h = (b - a) / (n - 1)\n",
        "x = np.linspace(a, b, n)\n",
        "f = np.log(x)\n",
        "\n",
        "I_trap = (h/2)*(f[0] + \\\n",
        "          2 * sum(f[1:n-1]) + f[n-1])\n",
        "err_trap = 1 - I_trap\n",
        "\n",
        "print(I_trap)\n",
        "print(err_trap)"
      ],
      "metadata": {
        "id": "RNEIJfwfoq_3",
        "outputId": "944832dd-0425-4505-d40c-05bb21a64e09",
        "colab": {
          "base_uri": "https://localhost:8080/"
        }
      },
      "execution_count": 9,
      "outputs": [
        {
          "output_type": "stream",
          "name": "stdout",
          "text": [
            "0.9984470050591351\n",
            "0.0015529949408649157\n"
          ]
        }
      ]
    }
  ]
}