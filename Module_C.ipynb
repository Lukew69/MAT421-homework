{
  "nbformat": 4,
  "nbformat_minor": 0,
  "metadata": {
    "colab": {
      "provenance": [],
      "authorship_tag": "ABX9TyO5fjPVysrTJ8V4pHKoz6TS",
      "include_colab_link": true
    },
    "kernelspec": {
      "name": "python3",
      "display_name": "Python 3"
    },
    "language_info": {
      "name": "python"
    }
  },
  "cells": [
    {
      "cell_type": "markdown",
      "metadata": {
        "id": "view-in-github",
        "colab_type": "text"
      },
      "source": [
        "<a href=\"https://colab.research.google.com/github/Lukew69/MAT421-homework/blob/main/Module_C.ipynb\" target=\"_parent\"><img src=\"https://colab.research.google.com/assets/colab-badge.svg\" alt=\"Open In Colab\"/></a>"
      ]
    },
    {
      "cell_type": "markdown",
      "source": [
        "19.1"
      ],
      "metadata": {
        "id": "uOpKDeuMSL5v"
      }
    },
    {
      "cell_type": "code",
      "source": [],
      "metadata": {
        "id": "Jz3lTndOSKUY"
      },
      "execution_count": null,
      "outputs": []
    },
    {
      "cell_type": "markdown",
      "source": [
        "19.2"
      ],
      "metadata": {
        "id": "kJIVqgQKR_Ev"
      }
    },
    {
      "cell_type": "code",
      "source": [],
      "metadata": {
        "id": "sOLJ4Kc0SFng"
      },
      "execution_count": null,
      "outputs": []
    },
    {
      "cell_type": "markdown",
      "source": [
        "19.3"
      ],
      "metadata": {
        "id": "njSxIJGQSATv"
      }
    },
    {
      "cell_type": "code",
      "source": [],
      "metadata": {
        "id": "VXXBZZ69SGFn"
      },
      "execution_count": null,
      "outputs": []
    },
    {
      "cell_type": "markdown",
      "source": [
        "19.4"
      ],
      "metadata": {
        "id": "aIYi4fMRSBPP"
      }
    },
    {
      "cell_type": "code",
      "source": [],
      "metadata": {
        "id": "WOVi9GKLSGio"
      },
      "execution_count": null,
      "outputs": []
    },
    {
      "cell_type": "markdown",
      "source": [
        "19.5"
      ],
      "metadata": {
        "id": "Dm7nWRUZSCPX"
      }
    },
    {
      "cell_type": "code",
      "source": [],
      "metadata": {
        "id": "yLkOrpNUSHW_"
      },
      "execution_count": null,
      "outputs": []
    }
  ]
}