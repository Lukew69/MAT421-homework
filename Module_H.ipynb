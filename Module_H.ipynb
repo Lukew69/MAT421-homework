{
  "nbformat": 4,
  "nbformat_minor": 0,
  "metadata": {
    "colab": {
      "provenance": [],
      "authorship_tag": "ABX9TyOuTC1o5vzlXkEVeIHKlN2i",
      "include_colab_link": true
    },
    "kernelspec": {
      "name": "python3",
      "display_name": "Python 3"
    },
    "language_info": {
      "name": "python"
    }
  },
  "cells": [
    {
      "cell_type": "markdown",
      "metadata": {
        "id": "view-in-github",
        "colab_type": "text"
      },
      "source": [
        "<a href=\"https://colab.research.google.com/github/Lukew69/MAT421-homework/blob/main/Module_H.ipynb\" target=\"_parent\"><img src=\"https://colab.research.google.com/assets/colab-badge.svg\" alt=\"Open In Colab\"/></a>"
      ]
    },
    {
      "cell_type": "markdown",
      "source": [
        "22.1"
      ],
      "metadata": {
        "id": "KTeOebCcphsW"
      }
    },
    {
      "cell_type": "code",
      "execution_count": null,
      "metadata": {
        "id": "Rh9ifMm_paeu"
      },
      "outputs": [],
      "source": []
    },
    {
      "cell_type": "markdown",
      "source": [
        "22.2"
      ],
      "metadata": {
        "id": "LAdaogyGpjbb"
      }
    },
    {
      "cell_type": "code",
      "source": [],
      "metadata": {
        "id": "R8LNFmOXpkqE"
      },
      "execution_count": null,
      "outputs": []
    },
    {
      "cell_type": "markdown",
      "source": [
        "22.3"
      ],
      "metadata": {
        "id": "C3MR2QBhpk-f"
      }
    },
    {
      "cell_type": "code",
      "source": [],
      "metadata": {
        "id": "7N4Wga0SqxBI"
      },
      "execution_count": null,
      "outputs": []
    }
  ]
}