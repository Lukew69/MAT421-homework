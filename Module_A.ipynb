{
  "nbformat": 4,
  "nbformat_minor": 0,
  "metadata": {
    "colab": {
      "provenance": [],
      "authorship_tag": "ABX9TyPyeV2TrXz3yGSlshMdLSD4",
      "include_colab_link": true
    },
    "kernelspec": {
      "name": "python3",
      "display_name": "Python 3"
    },
    "language_info": {
      "name": "python"
    }
  },
  "cells": [
    {
      "cell_type": "markdown",
      "metadata": {
        "id": "view-in-github",
        "colab_type": "text"
      },
      "source": [
        "<a href=\"https://colab.research.google.com/github/Lukew69/MAT421-homework/blob/main/Module_A.ipynb\" target=\"_parent\"><img src=\"https://colab.research.google.com/assets/colab-badge.svg\" alt=\"Open In Colab\"/></a>"
      ]
    },
    {
      "cell_type": "markdown",
      "source": [
        "9.1"
      ],
      "metadata": {
        "id": "ASElS64L9xRW"
      }
    },
    {
      "cell_type": "code",
      "execution_count": null,
      "metadata": {
        "id": "s28LHpaeHzNQ"
      },
      "outputs": [],
      "source": [
        "def my_bin_2_dec(b):\n",
        "  d= sum(val*(2**idx) for idx, val in enumerate(reversed(b)))\n",
        "  return d"
      ]
    },
    {
      "cell_type": "code",
      "source": [
        "my_bin_2_dec([1,1,1])"
      ],
      "metadata": {
        "colab": {
          "base_uri": "https://localhost:8080/"
        },
        "id": "ZT2PHcQj74b3",
        "outputId": "9822e3a3-fd0b-4d7f-bd85-14331d60d0f5"
      },
      "execution_count": null,
      "outputs": [
        {
          "output_type": "execute_result",
          "data": {
            "text/plain": [
              "7"
            ]
          },
          "metadata": {},
          "execution_count": 7
        }
      ]
    },
    {
      "cell_type": "code",
      "source": [
        "my_bin_2_dec([1,0,1,0,1,0,1])"
      ],
      "metadata": {
        "colab": {
          "base_uri": "https://localhost:8080/"
        },
        "id": "VPCZIBxT7-og",
        "outputId": "b48477fc-23f7-4890-85b6-1837160cd994"
      },
      "execution_count": null,
      "outputs": [
        {
          "output_type": "execute_result",
          "data": {
            "text/plain": [
              "85"
            ]
          },
          "metadata": {},
          "execution_count": 8
        }
      ]
    },
    {
      "cell_type": "code",
      "source": [
        "my_bin_2_dec([1]*25)"
      ],
      "metadata": {
        "colab": {
          "base_uri": "https://localhost:8080/"
        },
        "id": "vvcNBvOl7-yw",
        "outputId": "c6be88a3-7a57-492a-fbb3-94fb31fa56d2"
      },
      "execution_count": null,
      "outputs": [
        {
          "output_type": "execute_result",
          "data": {
            "text/plain": [
              "33554431"
            ]
          },
          "metadata": {},
          "execution_count": 9
        }
      ]
    },
    {
      "cell_type": "code",
      "source": [
        "my_bin_2_dec([0,1])"
      ],
      "metadata": {
        "colab": {
          "base_uri": "https://localhost:8080/"
        },
        "id": "5Nt91jIg9iMR",
        "outputId": "36553b2c-baf3-4ecf-d486-917014ee7b9d"
      },
      "execution_count": null,
      "outputs": [
        {
          "output_type": "execute_result",
          "data": {
            "text/plain": [
              "1"
            ]
          },
          "metadata": {},
          "execution_count": 11
        }
      ]
    },
    {
      "cell_type": "markdown",
      "source": [
        "9.2"
      ],
      "metadata": {
        "id": "sfw49Ny92z1j"
      }
    },
    {
      "cell_type": "code",
      "source": [
        "import numpy as np"
      ],
      "metadata": {
        "id": "sWhfVqcx4OFi"
      },
      "execution_count": 42,
      "outputs": []
    },
    {
      "cell_type": "code",
      "source": [
        "np.spacing(1e4)"
      ],
      "metadata": {
        "colab": {
          "base_uri": "https://localhost:8080/"
        },
        "id": "1klcwK874Q8j",
        "outputId": "6c7ce7f2-a01c-4530-8684-92f0b479d2d8"
      },
      "execution_count": 44,
      "outputs": [
        {
          "output_type": "execute_result",
          "data": {
            "text/plain": [
              "1.8189894035458565e-12"
            ]
          },
          "metadata": {},
          "execution_count": 44
        }
      ]
    },
    {
      "cell_type": "code",
      "source": [
        "1e4 ==(1e4+np.spacing(1e4)/3)"
      ],
      "metadata": {
        "colab": {
          "base_uri": "https://localhost:8080/"
        },
        "id": "I-5KIDHt4ZVx",
        "outputId": "ad2fdc84-bea8-47e7-c1f0-fd4d2377400d"
      },
      "execution_count": 45,
      "outputs": [
        {
          "output_type": "execute_result",
          "data": {
            "text/plain": [
              "True"
            ]
          },
          "metadata": {},
          "execution_count": 45
        }
      ]
    },
    {
      "cell_type": "code",
      "source": [
        "2**(-1075)"
      ],
      "metadata": {
        "colab": {
          "base_uri": "https://localhost:8080/"
        },
        "id": "kS8yvRF24kt4",
        "outputId": "ee085a8e-ff4d-48de-b77d-c89ad058e9b1"
      },
      "execution_count": 48,
      "outputs": [
        {
          "output_type": "execute_result",
          "data": {
            "text/plain": [
              "0.0"
            ]
          },
          "metadata": {},
          "execution_count": 48
        }
      ]
    },
    {
      "cell_type": "code",
      "source": [
        "2**(-1074)"
      ],
      "metadata": {
        "colab": {
          "base_uri": "https://localhost:8080/"
        },
        "id": "FIgtmape5CMH",
        "outputId": "e417be65-4a90-4c7e-833d-7bfcf449ad6e"
      },
      "execution_count": 49,
      "outputs": [
        {
          "output_type": "execute_result",
          "data": {
            "text/plain": [
              "5e-324"
            ]
          },
          "metadata": {},
          "execution_count": 49
        }
      ]
    },
    {
      "cell_type": "markdown",
      "source": [
        "9.3"
      ],
      "metadata": {
        "id": "7VdgU4BD5a7-"
      }
    },
    {
      "cell_type": "code",
      "source": [
        "2.5-2.45==0.055"
      ],
      "metadata": {
        "colab": {
          "base_uri": "https://localhost:8080/"
        },
        "id": "97yZHhzZ5cEb",
        "outputId": "73faf667-acc6-4063-cc47-7bac3b42ac83"
      },
      "execution_count": 50,
      "outputs": [
        {
          "output_type": "execute_result",
          "data": {
            "text/plain": [
              "False"
            ]
          },
          "metadata": {},
          "execution_count": 50
        }
      ]
    },
    {
      "cell_type": "code",
      "source": [
        "def add_and_subtract(iterations):\n",
        "  result = 1\n",
        "  for i in range(iterations):\n",
        "    result += 1/3\n",
        "  for i in range(iterations):\n",
        "    result -= 1/3\n",
        "  return result\n"
      ],
      "metadata": {
        "id": "DAfdNEsg53ez"
      },
      "execution_count": 51,
      "outputs": []
    },
    {
      "cell_type": "code",
      "source": [
        "add_and_subtract(1)"
      ],
      "metadata": {
        "colab": {
          "base_uri": "https://localhost:8080/"
        },
        "id": "mC8E-xYL6Q6n",
        "outputId": "1c3a684b-0767-442b-92be-5af4db1bb41e"
      },
      "execution_count": 52,
      "outputs": [
        {
          "output_type": "execute_result",
          "data": {
            "text/plain": [
              "1.0"
            ]
          },
          "metadata": {},
          "execution_count": 52
        }
      ]
    },
    {
      "cell_type": "code",
      "source": [
        "add_and_subtract(100000)"
      ],
      "metadata": {
        "colab": {
          "base_uri": "https://localhost:8080/"
        },
        "id": "4_2iVwco6W_5",
        "outputId": "8a704e38-90c0-4c95-9a46-9bf5c8c5f046"
      },
      "execution_count": 53,
      "outputs": [
        {
          "output_type": "execute_result",
          "data": {
            "text/plain": [
              "1.0000000000019214"
            ]
          },
          "metadata": {},
          "execution_count": 53
        }
      ]
    }
  ]
}